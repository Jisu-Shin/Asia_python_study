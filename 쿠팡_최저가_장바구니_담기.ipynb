{
 "cells": [
  {
   "cell_type": "markdown",
   "metadata": {},
   "source": [
    "### 쿠팡에 로그인하여 링크의 상품을 장바구니에 추가\n",
    "### # 같은 버전의 Chrome 과 chromedriver 가 필요합니다.\n",
    "### # chromedriver.exe 가 현재 파일과 같은 위치에 존재해야 합니다."
   ]
  },
  {
   "cell_type": "code",
   "execution_count": 1,
   "metadata": {},
   "outputs": [],
   "source": [
    "from selenium import webdriver\n",
    "from selenium.webdriver.common.by import By\n",
    "from selenium.webdriver.support.ui import WebDriverWait\n",
    "from selenium.webdriver.support import expected_conditions as EC"
   ]
  },
  {
   "cell_type": "code",
   "execution_count": 2,
   "metadata": {},
   "outputs": [],
   "source": [
    "def add_to_cart_coupang(coup_id, coup_pw, item) :\n",
    "    # chromedriver.exe 파일 위치에 따라 변경해주어야 합니다.\n",
    "    driver = webdriver.Chrome(u'chromedriver')\n",
    "\n",
    "    # 로그인\n",
    "    driver.get(\"https://login.coupang.com/login/login.pang\")\n",
    "    # ID\n",
    "    elem_login_id = driver.find_element_by_id(\"login-email-input\")\n",
    "    elem_login_id.clear()\n",
    "    elem_login_id.send_keys(coup_id)\n",
    "    # PW\n",
    "    elem_login_pw = driver.find_element_by_id(\"login-password-input\")\n",
    "    elem_login_pw.clear()\n",
    "    elem_login_pw.send_keys(coup_pw)\n",
    "    \n",
    "    xpath = \"//button[text()='로그인']\"\n",
    "    driver.find_element_by_xpath(xpath).click()\n",
    "    # 로그인 완료될때까지 대기\n",
    "    element = WebDriverWait(driver, 5).until(\n",
    "        EC.text_to_be_present_in_element(\n",
    "            (By.XPATH, \"//span[text()='로그아웃']\"),\n",
    "            '로그아웃'\n",
    "        )\n",
    "    )\n",
    "\n",
    "    # link 의 상품 장바구니 담기\n",
    "    driver.get(item['링크'])\n",
    "    # 상품정보 페이지 로딩 완료될때까지 대기\n",
    "    element = WebDriverWait(driver, 5).until(\n",
    "        EC.text_to_be_present_in_element(\n",
    "            (By.NAME, 'detail'),\n",
    "            '상품상세'\n",
    "        )\n",
    "    )\n",
    "    \n",
    "    xpath = '//button[@class=\"prod-cart-btn\"]'\n",
    "    driver.find_element_by_xpath(xpath).click()\n",
    "    # 장바구니에 담길때까지 대기\n",
    "    element = WebDriverWait(driver, 5).until(\n",
    "        EC.text_to_be_present_in_element(\n",
    "            (By.CLASS_NAME, 'prod-order-notifier-content'),\n",
    "            '상품이 장바구니에 담겼습니다.'\n",
    "        )\n",
    "    )\n",
    "    \n",
    "    # 장바구니로 이동\n",
    "    xpath = '//a[@class=\"clearFix mycart-preview-module\"]'\n",
    "    driver.find_element_by_xpath(xpath).click()\n",
    "    # 장바구니 페이지 로딩 완료될때까지 대기\n",
    "    element = WebDriverWait(driver, 5).until(\n",
    "        EC.text_to_be_present_in_element(\n",
    "            (By.ID, 'th-product-box'),\n",
    "            '상품정보'\n",
    "        )\n",
    "    )\n",
    "\n",
    "    if driver.find_element_by_xpath(\"//a[contains(text(), '\" + item['상품명'] + \"')]\") is not None :\n",
    "        print(item['상품명'] + ' 이 장바구니에 담겼습니다.')\n",
    "    else :\n",
    "        print(item['상품명'] + ' 이 장바구니에 담기지 않았습니다.')"
   ]
  },
  {
   "cell_type": "markdown",
   "metadata": {},
   "source": [
    "### 쿠팡에서 최저가 검색후 {상품명, 원가, 할인율, 판매가, 비고, 링크} 를 딕셔너리로 반환"
   ]
  },
  {
   "cell_type": "code",
   "execution_count": 3,
   "metadata": {},
   "outputs": [],
   "source": [
    "import re\n",
    "import requests\n",
    "from bs4 import BeautifulSoup as bs"
   ]
  },
  {
   "cell_type": "code",
   "execution_count": 4,
   "metadata": {},
   "outputs": [],
   "source": [
    "# pname = 상품명\n",
    "def get_cheapest_item_coupang(pname) :\n",
    "    base_url = 'https://www.coupang.com/np/search'\n",
    "\n",
    "    params = {\n",
    "        'q': pname,\n",
    "        'channel': 'user',\n",
    "        'component': None\n",
    "    }\n",
    "\n",
    "    # 미포함시 접근 불가\n",
    "    headers = {\n",
    "        'Referer': 'https://www.coupang.com/',\n",
    "        'User-Agent': 'Mozilla/5.0 (Windows NT 10.0; Win64; x64) AppleWebKit/537.36 (KHTML, like Gecko) Chrome/86.0.4220.0 Safari/537.36'\n",
    "    }\n",
    "    \n",
    "    resp = requests.get(base_url, params=params, headers=headers)\n",
    "    soup = bs(resp.text)\n",
    "    items = soup.select('li.search-product') # 상품정보 1개를 li.search-product 가 감싸고 있음.\n",
    "    \n",
    "    if soup.select('p.no-hit') : # 검색된 상품이 없을시\n",
    "        return dict( # 임시 상품 반환.\n",
    "            상품명 = pname,\n",
    "            원가 = 0,\n",
    "            할인율 = '0%',\n",
    "            판매가 = 0,\n",
    "            비고 = '(상품이 존재하지 않습니다)',\n",
    "            링크 = None\n",
    "        )\n",
    "    \n",
    "    # 두번째 상품부터 로켓프레시가 아니고, 검색 키워드를 포함하는 첫 상품을 검색.\n",
    "    # 로켓프레시는 장바구니 담기가 안되어 제외시켜야 함.\n",
    "    idxFirstItem = 1 # 첫번째 상품은 보통 광고인데 결과가 정확하지 않은 경우가 많아 제외 (사과 -> 사과식초, 배추 -> 배추김치)\n",
    "    num_items = len(items)\n",
    "    while idxFirstItem < num_items :\n",
    "        tmpItem = items[idxFirstItem].select_one('span.badge.rocket > img') # 로켓프레시, 로켓배송 등이 가지고 있는 태그\n",
    "        if pname in items[idxFirstItem].find('div', class_='name').text : # 검색 키워드를 포함하고\n",
    "            if tmpItem is None : # 일반 상품(일반 상품은 장바구니 담기 가능)이면 사용.\n",
    "                break\n",
    "            else : # 일반 상품이 아니면(로켓프레시나 로켓배송 등)\n",
    "                if 'rocket-fresh' not in tmpItem['src'] :\n",
    "                    break # 로켓프레시가 아니면 사용\n",
    "                else :\n",
    "                    pass # 로켓프레시면 다음 상품 확인.\n",
    "        idxFirstItem += 1\n",
    "    \n",
    "    item = items[idxFirstItem]\n",
    "    info = {}\n",
    "    \n",
    "    # 상품명\n",
    "    info['상품명'] = item.find('div', class_='name').text\n",
    "     \n",
    "    # 할인율, 원가, 판매가\n",
    "    # span.instant-discount-rate 가 존재할 경우, 안에 할인율이 들어있음.\n",
    "    objDiscountRate = item.find('span', class_='instant-discount-rate')\n",
    "    price = int(re.sub(\"\\D\", \"\", item.find('strong', class_='price-value').text)) # 판매가\n",
    "    if objDiscountRate is not None :\n",
    "        info['할인율'] = objDiscountRate.text\n",
    "        info['원가'] = int(re.sub(\"\\D\", \"\", item.find('del', class_='base-price').text))\n",
    "        info['판매가'] = price\n",
    "    else : # 할인율 정보 없을시, 0% (원가 = 판매가)\n",
    "        info['할인율'] = '0%'\n",
    "        info['원가'] = info['판매가'] = price\n",
    "    \n",
    "    # 상세정보\n",
    "    # span.unit-price 가 존재할 경우, (100g당 400원) 형식으로 들어있음.\n",
    "    objSpec = item.find('span', class_='unit-price')\n",
    "    if objSpec is not None :\n",
    "        info['비고'] = objSpec.text.strip()\n",
    "    else : # 상세 정보 없을시 배송 정보로 대체\n",
    "        info['비고'] = item.find('span', class_='arrival-info').text.strip()\n",
    "    \n",
    "    # 링크\n",
    "    info['링크'] = 'https://www.coupang.com' + item.find('a', class_='search-product-link')['href']\n",
    "    \n",
    "    return info"
   ]
  },
  {
   "cell_type": "markdown",
   "metadata": {},
   "source": [
    "### 쿠팡 최저가 검색 실행 예시"
   ]
  },
  {
   "cell_type": "code",
   "execution_count": 5,
   "metadata": {
    "scrolled": true
   },
   "outputs": [
    {
     "name": "stdout",
     "output_type": "stream",
     "text": [
      "{'상품명': '빛고을장터 국내산 무농약 대파 3kg 1kg내외, 1봉, 01_무농약 대파 (특/1kg)', '할인율': '14%', '원가': 3500, '판매가': 3000, '비고': '모레(금) 8/7   도착 예정', '링크': 'https://www.coupang.com/vp/products/1522323055?itemId=2612173783&vendorItemId=3628600382'}\n",
      "\n",
      "{'상품명': '청정원순창 100% 현미 태양초 찰고추장, 2kg, 1개', '할인율': '56%', '원가': 24600, '판매가': 10780, '비고': '(100g당 539원)', '링크': 'https://www.coupang.com/vp/products/96414?itemId=1015299&vendorItemId=3001106979'}\n",
      "\n",
      "{'상품명': '청풍명가 2020년 명품 햇 다진마늘, 1개, 500g', '할인율': '28%', '원가': 5900, '판매가': 4200, '비고': '모레(금) 8/7   도착 예정', '링크': 'https://www.coupang.com/vp/products/1309129255?itemId=2325566891&vendorItemId=70322210043&sourceType=srp_product_ads'}\n",
      "\n",
      "{'상품명': '농심 신라면 120g x 5p + 안성탕면 125g x 5p + 얼큰 너구리 120g x 5p + 짜파게티 140g x 5p, 1세트', '할인율': '0%', '원가': 14200, '판매가': 14200, '비고': '내일(목) 8/6   도착 보장', '링크': 'https://www.coupang.com/vp/products/1910849030?itemId=3244307968&vendorItemId=70916247951'}\n",
      "\n",
      "{'상품명': '가나안식품 생닭 대 2마리, 1세트, 2.4kg', '할인율': '0%', '원가': 9990, '판매가': 9990, '비고': '모레(금) 8/7   도착 예정', '링크': 'https://www.coupang.com/vp/products/301778043?itemId=949644060&vendorItemId=3004976609'}\n",
      "\n",
      "{'상품명': '없는상품이니까검색하지마세요', '원가': 0, '할인율': '0%', '판매가': 0, '비고': '(상품이 존재하지 않습니다)', '링크': None}\n"
     ]
    }
   ],
   "source": [
    "print(get_cheapest_item_coupang('대파'))\n",
    "print()\n",
    "print(get_cheapest_item_coupang('고추장'))\n",
    "print()\n",
    "print(get_cheapest_item_coupang('마늘'))\n",
    "print()\n",
    "print(get_cheapest_item_coupang('라면'))\n",
    "print()\n",
    "print(get_cheapest_item_coupang('생닭'))\n",
    "print()\n",
    "print(get_cheapest_item_coupang('없는상품이니까검색하지마세요'))"
   ]
  },
  {
   "cell_type": "markdown",
   "metadata": {},
   "source": [
    "### 쿠팡 장바구니 담기 실행 예시"
   ]
  },
  {
   "cell_type": "code",
   "execution_count": 6,
   "metadata": {},
   "outputs": [
    {
     "name": "stdout",
     "output_type": "stream",
     "text": [
      "세척당근 특품, 1박스, 01_세척당근(특) 5kg 이 장바구니에 담겼습니다.\n",
      "(신선) 시금치 spinach 1단 국내산, 단일상품 이 장바구니에 담겼습니다.\n",
      "빛고을장터 국내산 양배추 1통 (2~3kg내외), 국내산 양배추 (2~3kg내외) 이 장바구니에 담겼습니다.\n"
     ]
    }
   ],
   "source": [
    "import base64\n",
    "\n",
    "coup_id = base64.b64decode(b'a3l0OTYwMUBuYXZlci5jb20=').decode(\"UTF-8\")\n",
    "coup_pw = base64.b64decode(b'aHQhQGd0MzQ=').decode(\"UTF-8\")\n",
    "\n",
    "item = get_cheapest_item_coupang('당근')\n",
    "if item['링크'] is not None : add_to_cart_coupang(coup_id, coup_pw, item)\n",
    "\n",
    "item = get_cheapest_item_coupang('시금치')\n",
    "if item['링크'] is not None : add_to_cart_coupang(coup_id, coup_pw, item)\n",
    "    \n",
    "item = get_cheapest_item_coupang('양배추')\n",
    "if item['링크'] is not None : add_to_cart_coupang(coup_id, coup_pw, item)"
   ]
  }
 ],
 "metadata": {
  "kernelspec": {
   "display_name": "Python 3",
   "language": "python",
   "name": "python3"
  },
  "language_info": {
   "codemirror_mode": {
    "name": "ipython",
    "version": 3
   },
   "file_extension": ".py",
   "mimetype": "text/x-python",
   "name": "python",
   "nbconvert_exporter": "python",
   "pygments_lexer": "ipython3",
   "version": "3.8.3"
  }
 },
 "nbformat": 4,
 "nbformat_minor": 4
}
