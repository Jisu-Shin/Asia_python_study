{
 "cells": [
  {
   "cell_type": "code",
   "execution_count": 74,
   "metadata": {},
   "outputs": [],
   "source": [
    "import requests\n",
    "from bs4 import BeautifulSoup"
   ]
  },
  {
   "cell_type": "code",
   "execution_count": 75,
   "metadata": {},
   "outputs": [],
   "source": [
    "def find_price(food):\n",
    "    base_url = 'https://www.gsshop.com/shop/mart/martSearch.gs?'\n",
    "    params={\n",
    "        'supCd':'1036018',\n",
    "        'mq':food,\n",
    "        'lesq':'417375'\n",
    "    }\n",
    "\n",
    "    headers={\n",
    "        'User-Agent':'Mozilla/5.0 (Windows NT 10.0; Win64; x64) AppleWebKit/537.36 (KHTML, like Gecko) Chrome/84.0.4147.105 Safari/537.36'\n",
    "    }\n",
    "\n",
    "    resp = requests.get(base_url,params=params,headers=headers)\n",
    "    soup = BeautifulSoup(resp.text)\n",
    "    li_tags=soup.select('section#searchPrdList li')\n",
    "    list1 = []\n",
    "    for li in li_tags[:6]:\n",
    "        #비고찾기\n",
    "        img_tag =li.find('span',class_='badge-mart-label')\n",
    "        if img_tag == None:\n",
    "            etc=''\n",
    "        else : \n",
    "            etc=img_tag.find('img').get('alt')\n",
    "        \n",
    "        prd_name = li.find('dt').text.strip()\n",
    "        discount = li.find('span',class_='price-discount')\n",
    "        prd_price = li.find('span',class_='set-price').text\n",
    "        upper = li.find('del',class_='price-upper')\n",
    "            \n",
    "        if discount== None:\n",
    "            discount = \"\"\n",
    "            upper = \"\"\n",
    "        else :\n",
    "            discount = discount.text\n",
    "            upper = upper.text\n",
    "            \n",
    "        list1.append({\n",
    "            '상품명':prd_name,\n",
    "            '할인율':discount,\n",
    "            '원가':upper,\n",
    "            '판매가':prd_price,\n",
    "            '비고':etc\n",
    "        })\n",
    "    return list1"
   ]
  },
  {
   "cell_type": "code",
   "execution_count": 76,
   "metadata": {
    "scrolled": true
   },
   "outputs": [],
   "source": [
    "def get_list(buys):\n",
    "    bucket=int()\n",
    "    bucket_list=[]\n",
    "    #aa=[]\n",
    "    for buy in buys:\n",
    "        foodlist = find_price(buy)\n",
    "        #aa=sorted(flist, key=(lambda x: int(x['판매가'].replace(',','')[:-1])))\n",
    "        choice={}\n",
    "        name_sp = buy.split(\" \")\n",
    "        for f in foodlist:\n",
    "            prd_name = f['상품명']\n",
    "            buy_cnt=0\n",
    "            for n in name_sp:\n",
    "                if n in prd_name :\n",
    "                    buy_cnt+=1\n",
    "            if buy_cnt==len(name_sp):\n",
    "                choice = f\n",
    "                break;\n",
    "        if choice == {} :\n",
    "            choice={\n",
    "                '상품명':buy,\n",
    "                '할인율':'',\n",
    "                '원가':'',\n",
    "                '판매가':'0원',\n",
    "                '비고':'제품을 찾을 수 없습니다',\n",
    "            }\n",
    "        price= choice.get('판매가')\n",
    "        bucket+=int(price.replace(',','')[:-1])\n",
    "        bucket_list.append(choice)\n",
    "    return (bucket_list,bucket)"
   ]
  },
  {
   "cell_type": "code",
   "execution_count": 77,
   "metadata": {},
   "outputs": [],
   "source": [
    "def input_prod():\n",
    "    prod_list=[]\n",
    "    prod=input('상품을 입력해주세요(빈칸을 입력할경우 종료됩니다):')\n",
    "    while prod!='' :\n",
    "        prod_list.append(prod)\n",
    "        prod=input('상품을 입력해주세요(빈칸을 입력할경우 종료됩니다):')\n",
    "    return get_list(prod_list)"
   ]
  },
  {
   "cell_type": "code",
   "execution_count": 78,
   "metadata": {},
   "outputs": [
    {
     "name": "stdout",
     "output_type": "stream",
     "text": [
      "상품을 입력해주세요(빈칸을 입력할경우 종료됩니다):당그\n",
      "상품을 입력해주세요(빈칸을 입력할경우 종료됩니다):시금치\n",
      "상품을 입력해주세요(빈칸을 입력할경우 종료됩니다):커피\n",
      "상품을 입력해주세요(빈칸을 입력할경우 종료됩니다):\n"
     ]
    }
   ],
   "source": [
    "li1,total=input_prod()"
   ]
  },
  {
   "cell_type": "code",
   "execution_count": 72,
   "metadata": {},
   "outputs": [],
   "source": [
    "import pandas as pd"
   ]
  },
  {
   "cell_type": "code",
   "execution_count": 79,
   "metadata": {},
   "outputs": [
    {
     "data": {
      "text/html": [
       "<div>\n",
       "<style scoped>\n",
       "    .dataframe tbody tr th:only-of-type {\n",
       "        vertical-align: middle;\n",
       "    }\n",
       "\n",
       "    .dataframe tbody tr th {\n",
       "        vertical-align: top;\n",
       "    }\n",
       "\n",
       "    .dataframe thead th {\n",
       "        text-align: right;\n",
       "    }\n",
       "</style>\n",
       "<table border=\"1\" class=\"dataframe\">\n",
       "  <thead>\n",
       "    <tr style=\"text-align: right;\">\n",
       "      <th></th>\n",
       "      <th>상품명</th>\n",
       "      <th>할인율</th>\n",
       "      <th>원가</th>\n",
       "      <th>판매가</th>\n",
       "      <th>비고</th>\n",
       "    </tr>\n",
       "  </thead>\n",
       "  <tbody>\n",
       "    <tr>\n",
       "      <th>0</th>\n",
       "      <td>당그</td>\n",
       "      <td></td>\n",
       "      <td></td>\n",
       "      <td>0원</td>\n",
       "      <td>제품을 찾을 수 없습니다</td>\n",
       "    </tr>\n",
       "    <tr>\n",
       "      <th>1</th>\n",
       "      <td>[일동후디스]유기농쌀과자 시금치떡뻥 30g</td>\n",
       "      <td>40%</td>\n",
       "      <td>4,200원</td>\n",
       "      <td>2,520원</td>\n",
       "      <td>행사상품</td>\n",
       "    </tr>\n",
       "    <tr>\n",
       "      <th>2</th>\n",
       "      <td>[서울]커피포리묶음 200ml x 3입</td>\n",
       "      <td>10%</td>\n",
       "      <td>2,660원</td>\n",
       "      <td>2,390원</td>\n",
       "      <td>행사상품</td>\n",
       "    </tr>\n",
       "  </tbody>\n",
       "</table>\n",
       "</div>"
      ],
      "text/plain": [
       "                       상품명  할인율      원가     판매가             비고\n",
       "0                       당그                   0원  제품을 찾을 수 없습니다\n",
       "1  [일동후디스]유기농쌀과자 시금치떡뻥 30g  40%  4,200원  2,520원           행사상품\n",
       "2    [서울]커피포리묶음 200ml x 3입  10%  2,660원  2,390원           행사상품"
      ]
     },
     "execution_count": 79,
     "metadata": {},
     "output_type": "execute_result"
    }
   ],
   "source": [
    "li_df=pd.DataFrame(li1)\n",
    "li_df"
   ]
  },
  {
   "cell_type": "code",
   "execution_count": null,
   "metadata": {},
   "outputs": [],
   "source": []
  }
 ],
 "metadata": {
  "kernelspec": {
   "display_name": "Python 3",
   "language": "python",
   "name": "python3"
  },
  "language_info": {
   "codemirror_mode": {
    "name": "ipython",
    "version": 3
   },
   "file_extension": ".py",
   "mimetype": "text/x-python",
   "name": "python",
   "nbconvert_exporter": "python",
   "pygments_lexer": "ipython3",
   "version": "3.8.3"
  }
 },
 "nbformat": 4,
 "nbformat_minor": 4
}
